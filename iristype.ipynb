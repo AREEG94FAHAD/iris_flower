{
 "cells": [
  {
   "cell_type": "markdown",
   "id": "f4a381b0",
   "metadata": {},
   "source": [
    "### IRIS flower"
   ]
  },
  {
   "cell_type": "markdown",
   "id": "0c099bbc",
   "metadata": {},
   "source": [
    "A machine learning system to predict the iris flower type based on the K nearest neighbors algorithm. "
   ]
  },
  {
   "cell_type": "markdown",
   "id": "3919c3bc",
   "metadata": {},
   "source": [
    "<p><b>The independent variables are</b></p>\n",
    "\n",
    "- sepallength\n",
    "- sepalwidth\n",
    "- petallength\n",
    "- petalwidth\n",
    "\n",
    "<p><b>The dependent variable is </b></p>\n",
    "\n",
    "- The iris flower type\n",
    "\n",
    "<p><b>Dataset</b></p>\n",
    "\n",
    "- The dataset used for this experiment can be downloaded form this [link](https://archive.ics.uci.edu/ml/machine-learning-databases/iris/iris.data)\n",
    "\n",
    "<p><b>Tools</b><p>\n",
    "    \n",
    "To work with this project, multiple libraries and frameworks need to be installed. The following is a list of them.\n",
    "- [Pandas](https://pandas.pydata.org/)\n",
    "- [NumPy](https://numpy.org/)\n",
    "- [Matplotlib](https://matplotlib.org/)\n",
    "- [Sciki-learn](https://scikit-learn.org/stable/)\n",
    "    "
   ]
  },
  {
   "cell_type": "markdown",
   "id": "30ceaf4c",
   "metadata": {},
   "source": [
    "#### Import the necessary packets."
   ]
  },
  {
   "cell_type": "code",
   "execution_count": 1,
   "id": "e18b355d",
   "metadata": {},
   "outputs": [],
   "source": [
    "import numpy as np\n",
    "import pandas as pd\n",
    "import matplotlib.pyplot as plt"
   ]
  },
  {
   "cell_type": "markdown",
   "id": "08784cbe",
   "metadata": {},
   "source": [
    "The dataset is unlabeled; an assigned label is needed"
   ]
  },
  {
   "cell_type": "code",
   "execution_count": 4,
   "id": "1dbf14f2",
   "metadata": {},
   "outputs": [
    {
     "data": {
      "text/html": [
       "<div>\n",
       "<style scoped>\n",
       "    .dataframe tbody tr th:only-of-type {\n",
       "        vertical-align: middle;\n",
       "    }\n",
       "\n",
       "    .dataframe tbody tr th {\n",
       "        vertical-align: top;\n",
       "    }\n",
       "\n",
       "    .dataframe thead th {\n",
       "        text-align: right;\n",
       "    }\n",
       "</style>\n",
       "<table border=\"1\" class=\"dataframe\">\n",
       "  <thead>\n",
       "    <tr style=\"text-align: right;\">\n",
       "      <th></th>\n",
       "      <th>sepal-length</th>\n",
       "      <th>sepal-width</th>\n",
       "      <th>petal-length</th>\n",
       "      <th>petal-width</th>\n",
       "      <th>Class</th>\n",
       "    </tr>\n",
       "  </thead>\n",
       "  <tbody>\n",
       "    <tr>\n",
       "      <th>0</th>\n",
       "      <td>5.1</td>\n",
       "      <td>3.5</td>\n",
       "      <td>1.4</td>\n",
       "      <td>0.2</td>\n",
       "      <td>Iris-setosa</td>\n",
       "    </tr>\n",
       "    <tr>\n",
       "      <th>1</th>\n",
       "      <td>4.9</td>\n",
       "      <td>3.0</td>\n",
       "      <td>1.4</td>\n",
       "      <td>0.2</td>\n",
       "      <td>Iris-setosa</td>\n",
       "    </tr>\n",
       "    <tr>\n",
       "      <th>2</th>\n",
       "      <td>4.7</td>\n",
       "      <td>3.2</td>\n",
       "      <td>1.3</td>\n",
       "      <td>0.2</td>\n",
       "      <td>Iris-setosa</td>\n",
       "    </tr>\n",
       "  </tbody>\n",
       "</table>\n",
       "</div>"
      ],
      "text/plain": [
       "   sepal-length  sepal-width  petal-length  petal-width        Class\n",
       "0           5.1          3.5           1.4          0.2  Iris-setosa\n",
       "1           4.9          3.0           1.4          0.2  Iris-setosa\n",
       "2           4.7          3.2           1.3          0.2  Iris-setosa"
      ]
     },
     "execution_count": 4,
     "metadata": {},
     "output_type": "execute_result"
    }
   ],
   "source": [
    "headernames = ['sepal-length', 'sepal-width', 'petal-length', 'petal-width', 'Class']\n",
    "# read the iris.data as csv and assign the label\n",
    "df = pd.read_csv('iris.data', names = headernames)\n",
    "\n",
    "df.head(3)"
   ]
  },
  {
   "cell_type": "markdown",
   "id": "7c730f89",
   "metadata": {},
   "source": [
    "#### Data preprocessing"
   ]
  },
  {
   "cell_type": "markdown",
   "id": "af751050",
   "metadata": {},
   "source": [
    "Select the first four columns as independent (x) variables and the last column as dependent(y)"
   ]
  },
  {
   "cell_type": "code",
   "execution_count": 5,
   "id": "31eee4bb",
   "metadata": {},
   "outputs": [],
   "source": [
    "x = df.iloc[:, :-1].values\n",
    "y = df.iloc[:,4].values"
   ]
  },
  {
   "cell_type": "markdown",
   "id": "6f389ddb",
   "metadata": {},
   "source": [
    "#### Normalize the data\n",
    "> we only have numeric data so we don't used onehotencoder"
   ]
  },
  {
   "cell_type": "code",
   "execution_count": 6,
   "id": "861d4035",
   "metadata": {},
   "outputs": [],
   "source": [
    "from sklearn.preprocessing import StandardScaler\n",
    "scaler = StandardScaler()\n",
    "scaler.fit(x)\n",
    "x = scaler.transform(x)"
   ]
  },
  {
   "cell_type": "markdown",
   "id": "6ed6e519",
   "metadata": {},
   "source": [
    "#### Split the data into train and test"
   ]
  },
  {
   "cell_type": "code",
   "execution_count": 9,
   "id": "4d705b13",
   "metadata": {},
   "outputs": [],
   "source": [
    "from sklearn.model_selection import train_test_split\n",
    "X_train, X_test, y_train, y_test = train_test_split(x, y, test_size = 0.40)"
   ]
  },
  {
   "cell_type": "markdown",
   "id": "dc55353a",
   "metadata": {},
   "source": [
    "#### import the k-nn model "
   ]
  },
  {
   "cell_type": "code",
   "execution_count": 14,
   "id": "5bae3a47",
   "metadata": {},
   "outputs": [
    {
     "data": {
      "text/plain": [
       "Text(0, 0.5, 'Accuracy')"
      ]
     },
     "execution_count": 14,
     "metadata": {},
     "output_type": "execute_result"
    },
    {
     "data": {
      "image/png": "[encoded data removed]",
      "text/plain": [
       "<Figure size 640x480 with 1 Axes>"
      ]
     },
     "metadata": {},
     "output_type": "display_data"
    }
   ],
   "source": [
    "from sklearn.neighbors import KNeighborsClassifier\n",
    "k = 10\n",
    "accuracy_result = []\n",
    "for i in range(1,k+1):\n",
    "\n",
    "    model = KNeighborsClassifier(n_neighbors = i).fit(X_train, y_train)\n",
    "    yhat = model.predict(X_test)\n",
    "\n",
    "    from sklearn import metrics\n",
    "    # print(\"Train set Accuracy: \", metrics.accuracy_score(y_train, model.predict(X_train))*100)\n",
    "    ac = metrics.accuracy_score(y_test, yhat)\n",
    "    # print(\"Test set Accuracy: \",ac )\n",
    "    \n",
    "    accuracy_result.append(ac)\n",
    "\n",
    "plt.bar(np.arange(1,k+1), [i*100 for i in accuracy_result])\n",
    "plt.xlabel('K-length')\n",
    "plt.ylabel('Accuracy')"
   ]
  },
  {
   "cell_type": "code",
   "execution_count": 16,
   "id": "26705249",
   "metadata": {},
   "outputs": [
    {
     "name": "stdout",
     "output_type": "stream",
     "text": [
      "The best accuracy achieved where k is equal to  2 The accuracy is  95.0%\n"
     ]
    }
   ],
   "source": [
    "print('The best accuracy achieved where k is equal to ', str(accuracy_result.index(max(accuracy_result))), \"The accuracy is \",str(accuracy_result[accuracy_result.index(max(accuracy_result))]*100)+\"%\")"
   ]
  },
  {
   "cell_type": "markdown",
   "id": "7a17d0fa",
   "metadata": {},
   "source": [
    "#### Deploying"
   ]
  },
  {
   "cell_type": "code",
   "execution_count": 17,
   "id": "cbde8391",
   "metadata": {},
   "outputs": [
    {
     "data": {
      "text/plain": [
       "['Scaler/scaler.pickle']"
      ]
     },
     "execution_count": 17,
     "metadata": {},
     "output_type": "execute_result"
    }
   ],
   "source": [
    "import joblib\n",
    "import os\n",
    "if not os.path.exists('Model'):\n",
    "        os.mkdir('Model')\n",
    "if not os.path.exists('Scaler'):\n",
    "        os.mkdir('Scaler')\n",
    "        \n",
    "joblib.dump(model, r'Model/model.pickle')\n",
    "joblib.dump(scaler, r'Scaler/scaler.pickle')"
   ]
  },
  {
   "cell_type": "markdown",
   "id": "c97bcb5f",
   "metadata": {},
   "source": [
    "To use the proposed model with real data create another file deploy.py and this lines\n"
   ]
  },
  {
   "cell_type": "code",
   "execution_count": 19,
   "id": "6f99e0eb",
   "metadata": {},
   "outputs": [
    {
     "name": "stdout",
     "output_type": "stream",
     "text": [
      "['Iris-setosa']\n"
     ]
    },
    {
     "name": "stderr",
     "output_type": "stream",
     "text": [
      "C:\\Users\\ali\\anaconda3\\lib\\site-packages\\sklearn\\base.py:443: UserWarning: X has feature names, but StandardScaler was fitted without feature names\n",
      "  warnings.warn(\n"
     ]
    }
   ],
   "source": [
    "import pandas as pd\n",
    "\n",
    "# 1- define the new data\n",
    "new_data = pd.DataFrame([{'sepal-length':5.3, 'sepal-width':3.7, 'petal-length':1.6, 'petal-width':0.22}])\n",
    "new_data = new_data[['sepal-length','sepal-width','petal-length','petal-width']]\n",
    "\n",
    "# 2- import the Scalar and KNN models \n",
    "\n",
    "import joblib\n",
    "\n",
    "model = joblib.load(r'Model/model.pickle')\n",
    "scaler = joblib.load(r'Scaler/scaler.pickle')\n",
    "\n",
    "# 3- Normalize the data\n",
    "new_data = scaler.transform(new_data)\n",
    "predict_calass = model.predict(new_data)\n",
    "\n",
    "print(predict_calass)"
   ]
  }
 ],
 "metadata": {
  "kernelspec": {
   "display_name": "Python 3 (ipykernel)",
   "language": "python",
   "name": "python3"
  },
  "language_info": {
   "codemirror_mode": {
    "name": "ipython",
    "version": 3
   },
   "file_extension": ".py",
   "mimetype": "text/x-python",
   "name": "python",
   "nbconvert_exporter": "python",
   "pygments_lexer": "ipython3",
   "version": "3.9.13"
  }
 },
 "nbformat": 4,
 "nbformat_minor": 5
}
